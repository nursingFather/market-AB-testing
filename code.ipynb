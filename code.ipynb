{
 "cells": [
  {
   "cell_type": "code",
   "execution_count": null,
   "id": "f1a739fe-3d46-4c3c-9d2a-9f11168658e9",
   "metadata": {},
   "outputs": [],
   "source": []
  },
  {
   "cell_type": "markdown",
   "id": "2213a8a0-7236-46d8-9c77-bbf47d2a26dc",
   "metadata": {},
   "source": [
    "                        -- --- In God we trust, everyone else must bring data -----\n",
    "\n",
    "Evolution and change are the essence of life. With each change we make, we generate a wealth of data, providing us with the opportunity to learn as we evolve. A/B testing is a powerful tool to ensure our progress is deliberate and in the right direction, rather than taking one step forward and two steps back.\n",
    "\n",
    "A/B testing, also known as split or bucket testing, is a method for comparing two versions of a webpage, app, or strategy to determine which performs better. By collecting reliable data on how changes impact key metrics, we can make informed decisions, ensuring that our strategies are driven by evidence rather than assumptions.\n",
    "\n"
   ]
  },
  {
   "cell_type": "markdown",
   "id": "4dc9205a-40f7-4ba1-8b25-285b487a07d8",
   "metadata": {
    "jupyter": {
     "source_hidden": true
    },
    "tags": []
   },
   "source": [
    "## Task\n",
    "Marketing companies want to run successful campaigns, but the market is complex and several options can work. So normally they tun A/B tests, that is a randomized experimentation process wherein two or more versions of a variable (web page, page element, banner, etc.) are shown to different segments of people at the same time to determine which version leaves the maximum impact and drive business metrics.\n",
    "\n",
    "The companies are interested in answering two questions:\n",
    "\n",
    "The majority of the people will be exposed to ads (the experimental group). And a small portion of people (the control group) would instead see a Public Service Announcement (PSA) (or nothing) in the exact size and place the ad would normally be.\n",
    "\n",
    "The idea of the dataset is to analyze the groups, find if the ads were successful, how much the company can make from the ads, and if the difference between the groups is statistically significant."
   ]
  },
  {
   "cell_type": "markdown",
   "id": "36e9159d-642d-47c1-bad0-5f579108797e",
   "metadata": {},
   "source": [
    "*Data dictionary:*\n",
    "\n",
    "    Index : Row index\n",
    "    user id: User ID (unique)\n",
    "    test group: If \"ad\" the person saw the advertisement, if \"psa\" they only saw the public service announcement\n",
    "    converted: If a person bought the product then True, else is False\n",
    "    total ads: Amount of ads seen by person\n",
    "    most ads day: Day that the person saw the biggest amount of ads\n",
    "    most ads hour: Hour of day that the person saw the biggest amount of ads\n",
    "    \n",
    "*Test key characteristics:*\n",
    "\n",
    "    Controlled delibrate experiment\n",
    "    Based on randomized set of users\n",
    "    Defined hypothesis and ability to measure the succes\n",
    "    There is a control group with default experience and at least one test group with new experience\n",
    "*Test Process:*\n",
    "\n",
    "    1.Import Packages\n",
    "    2.EDA\n",
    "    3.Statistical tests implementation \n",
    "    4.Analyse the results\n",
    "    5.Recommend relevant decisions to run the business"
   ]
  },
  {
   "cell_type": "markdown",
   "id": "1083b57c-4f80-44d2-bf2c-04b6a59c6592",
   "metadata": {
    "tags": []
   },
   "source": [
    "### Import necessary Libraries"
   ]
  },
  {
   "cell_type": "code",
   "execution_count": 2,
   "id": "8d4fef31-ae8f-4978-8f6d-e383aa5bbb83",
   "metadata": {
    "tags": []
   },
   "outputs": [],
   "source": [
    "import numpy as np\n",
    "import pandas as pd\n",
    "from scipy import stats\n",
    "import matplotlib.pyplot as plt\n",
    "import seaborn as sns"
   ]
  },
  {
   "cell_type": "code",
   "execution_count": 3,
   "id": "ddea18db-019c-4fe8-8077-0e314209256c",
   "metadata": {
    "tags": []
   },
   "outputs": [
    {
     "data": {
      "text/html": [
       "<div>\n",
       "<style scoped>\n",
       "    .dataframe tbody tr th:only-of-type {\n",
       "        vertical-align: middle;\n",
       "    }\n",
       "\n",
       "    .dataframe tbody tr th {\n",
       "        vertical-align: top;\n",
       "    }\n",
       "\n",
       "    .dataframe thead th {\n",
       "        text-align: right;\n",
       "    }\n",
       "</style>\n",
       "<table border=\"1\" class=\"dataframe\">\n",
       "  <thead>\n",
       "    <tr style=\"text-align: right;\">\n",
       "      <th></th>\n",
       "      <th>Unnamed: 0</th>\n",
       "      <th>user id</th>\n",
       "      <th>test group</th>\n",
       "      <th>converted</th>\n",
       "      <th>total ads</th>\n",
       "      <th>most ads day</th>\n",
       "      <th>most ads hour</th>\n",
       "    </tr>\n",
       "  </thead>\n",
       "  <tbody>\n",
       "    <tr>\n",
       "      <th>0</th>\n",
       "      <td>0</td>\n",
       "      <td>1069124</td>\n",
       "      <td>ad</td>\n",
       "      <td>False</td>\n",
       "      <td>130</td>\n",
       "      <td>Monday</td>\n",
       "      <td>20</td>\n",
       "    </tr>\n",
       "    <tr>\n",
       "      <th>1</th>\n",
       "      <td>1</td>\n",
       "      <td>1119715</td>\n",
       "      <td>ad</td>\n",
       "      <td>False</td>\n",
       "      <td>93</td>\n",
       "      <td>Tuesday</td>\n",
       "      <td>22</td>\n",
       "    </tr>\n",
       "    <tr>\n",
       "      <th>2</th>\n",
       "      <td>2</td>\n",
       "      <td>1144181</td>\n",
       "      <td>ad</td>\n",
       "      <td>False</td>\n",
       "      <td>21</td>\n",
       "      <td>Tuesday</td>\n",
       "      <td>18</td>\n",
       "    </tr>\n",
       "    <tr>\n",
       "      <th>3</th>\n",
       "      <td>3</td>\n",
       "      <td>1435133</td>\n",
       "      <td>ad</td>\n",
       "      <td>False</td>\n",
       "      <td>355</td>\n",
       "      <td>Tuesday</td>\n",
       "      <td>10</td>\n",
       "    </tr>\n",
       "    <tr>\n",
       "      <th>4</th>\n",
       "      <td>4</td>\n",
       "      <td>1015700</td>\n",
       "      <td>ad</td>\n",
       "      <td>False</td>\n",
       "      <td>276</td>\n",
       "      <td>Friday</td>\n",
       "      <td>14</td>\n",
       "    </tr>\n",
       "  </tbody>\n",
       "</table>\n",
       "</div>"
      ],
      "text/plain": [
       "   Unnamed: 0  user id test group  converted  total ads most ads day  \\\n",
       "0           0  1069124         ad      False        130       Monday   \n",
       "1           1  1119715         ad      False         93      Tuesday   \n",
       "2           2  1144181         ad      False         21      Tuesday   \n",
       "3           3  1435133         ad      False        355      Tuesday   \n",
       "4           4  1015700         ad      False        276       Friday   \n",
       "\n",
       "   most ads hour  \n",
       "0             20  \n",
       "1             22  \n",
       "2             18  \n",
       "3             10  \n",
       "4             14  "
      ]
     },
     "execution_count": 3,
     "metadata": {},
     "output_type": "execute_result"
    }
   ],
   "source": [
    "df = pd.read_csv(\"marketing_AB.csv\")\n",
    "df.head()"
   ]
  },
  {
   "cell_type": "code",
   "execution_count": 4,
   "id": "149ce3a6-fc9b-4a64-83db-029f67ee2aae",
   "metadata": {
    "tags": []
   },
   "outputs": [
    {
     "name": "stdout",
     "output_type": "stream",
     "text": [
      "<class 'pandas.core.frame.DataFrame'>\n",
      "RangeIndex: 588101 entries, 0 to 588100\n",
      "Data columns (total 7 columns):\n",
      " #   Column         Non-Null Count   Dtype \n",
      "---  ------         --------------   ----- \n",
      " 0   Unnamed: 0     588101 non-null  int64 \n",
      " 1   user id        588101 non-null  int64 \n",
      " 2   test group     588101 non-null  object\n",
      " 3   converted      588101 non-null  bool  \n",
      " 4   total ads      588101 non-null  int64 \n",
      " 5   most ads day   588101 non-null  object\n",
      " 6   most ads hour  588101 non-null  int64 \n",
      "dtypes: bool(1), int64(4), object(2)\n",
      "memory usage: 27.5+ MB\n"
     ]
    }
   ],
   "source": [
    "df.info() # to check if id are column is unique()"
   ]
  },
  {
   "cell_type": "code",
   "execution_count": 5,
   "id": "c099c1a2-9864-4506-8db6-68aafeed2cc4",
   "metadata": {
    "tags": []
   },
   "outputs": [
    {
     "data": {
      "text/html": [
       "<div>\n",
       "<style scoped>\n",
       "    .dataframe tbody tr th:only-of-type {\n",
       "        vertical-align: middle;\n",
       "    }\n",
       "\n",
       "    .dataframe tbody tr th {\n",
       "        vertical-align: top;\n",
       "    }\n",
       "\n",
       "    .dataframe thead th {\n",
       "        text-align: right;\n",
       "    }\n",
       "</style>\n",
       "<table border=\"1\" class=\"dataframe\">\n",
       "  <thead>\n",
       "    <tr style=\"text-align: right;\">\n",
       "      <th></th>\n",
       "      <th>test group</th>\n",
       "      <th>converted</th>\n",
       "      <th>total ads</th>\n",
       "      <th>most ads day</th>\n",
       "      <th>most ads hour</th>\n",
       "    </tr>\n",
       "  </thead>\n",
       "  <tbody>\n",
       "    <tr>\n",
       "      <th>0</th>\n",
       "      <td>ad</td>\n",
       "      <td>False</td>\n",
       "      <td>130</td>\n",
       "      <td>Monday</td>\n",
       "      <td>20</td>\n",
       "    </tr>\n",
       "    <tr>\n",
       "      <th>1</th>\n",
       "      <td>ad</td>\n",
       "      <td>False</td>\n",
       "      <td>93</td>\n",
       "      <td>Tuesday</td>\n",
       "      <td>22</td>\n",
       "    </tr>\n",
       "    <tr>\n",
       "      <th>2</th>\n",
       "      <td>ad</td>\n",
       "      <td>False</td>\n",
       "      <td>21</td>\n",
       "      <td>Tuesday</td>\n",
       "      <td>18</td>\n",
       "    </tr>\n",
       "    <tr>\n",
       "      <th>3</th>\n",
       "      <td>ad</td>\n",
       "      <td>False</td>\n",
       "      <td>355</td>\n",
       "      <td>Tuesday</td>\n",
       "      <td>10</td>\n",
       "    </tr>\n",
       "    <tr>\n",
       "      <th>4</th>\n",
       "      <td>ad</td>\n",
       "      <td>False</td>\n",
       "      <td>276</td>\n",
       "      <td>Friday</td>\n",
       "      <td>14</td>\n",
       "    </tr>\n",
       "  </tbody>\n",
       "</table>\n",
       "</div>"
      ],
      "text/plain": [
       "  test group  converted  total ads most ads day  most ads hour\n",
       "0         ad      False        130       Monday             20\n",
       "1         ad      False         93      Tuesday             22\n",
       "2         ad      False         21      Tuesday             18\n",
       "3         ad      False        355      Tuesday             10\n",
       "4         ad      False        276       Friday             14"
      ]
     },
     "execution_count": 5,
     "metadata": {},
     "output_type": "execute_result"
    }
   ],
   "source": [
    "# drop the index and u nnecesary column\n",
    "df.drop(columns = ['Unnamed: 0', 'user id'], inplace = True)\n",
    "df.head()"
   ]
  },
  {
   "cell_type": "markdown",
   "id": "8f88a200-38a9-4952-b732-473ae16229ee",
   "metadata": {},
   "source": [
    "### Exploratory Data Analysis"
   ]
  },
  {
   "cell_type": "code",
   "execution_count": 6,
   "id": "d20af0cb-6125-4d5c-b90a-2bbda18c0aea",
   "metadata": {
    "tags": []
   },
   "outputs": [
    {
     "data": {
      "text/plain": [
       "(588101, 5)"
      ]
     },
     "execution_count": 6,
     "metadata": {},
     "output_type": "execute_result"
    }
   ],
   "source": [
    "df.shape"
   ]
  },
  {
   "cell_type": "code",
   "execution_count": 7,
   "id": "5a4392bf-0665-4e81-ac9d-3f9934bc7e9d",
   "metadata": {
    "tags": []
   },
   "outputs": [
    {
     "data": {
      "text/plain": [
       "test group       object\n",
       "converted          bool\n",
       "total ads         int64\n",
       "most ads day     object\n",
       "most ads hour     int64\n",
       "dtype: object"
      ]
     },
     "execution_count": 7,
     "metadata": {},
     "output_type": "execute_result"
    }
   ],
   "source": [
    "df.dtypes"
   ]
  },
  {
   "cell_type": "code",
   "execution_count": 8,
   "id": "b418e890-49c9-4381-a1db-d785163159f8",
   "metadata": {
    "tags": []
   },
   "outputs": [
    {
     "data": {
      "text/plain": [
       "test group       0\n",
       "converted        0\n",
       "total ads        0\n",
       "most ads day     0\n",
       "most ads hour    0\n",
       "dtype: int64"
      ]
     },
     "execution_count": 8,
     "metadata": {},
     "output_type": "execute_result"
    }
   ],
   "source": [
    "df.isna().sum()"
   ]
  },
  {
   "cell_type": "code",
   "execution_count": 9,
   "id": "9db95b4a-3df4-46a7-81c3-60338e35bf73",
   "metadata": {
    "tags": []
   },
   "outputs": [
    {
     "name": "stdout",
     "output_type": "stream",
     "text": [
      "<class 'pandas.core.frame.DataFrame'>\n",
      "RangeIndex: 588101 entries, 0 to 588100\n",
      "Data columns (total 5 columns):\n",
      " #   Column         Non-Null Count   Dtype \n",
      "---  ------         --------------   ----- \n",
      " 0   test group     588101 non-null  object\n",
      " 1   converted      588101 non-null  bool  \n",
      " 2   total ads      588101 non-null  int64 \n",
      " 3   most ads day   588101 non-null  object\n",
      " 4   most ads hour  588101 non-null  int64 \n",
      "dtypes: bool(1), int64(2), object(2)\n",
      "memory usage: 18.5+ MB\n"
     ]
    }
   ],
   "source": [
    "df.info()"
   ]
  },
  {
   "cell_type": "code",
   "execution_count": 10,
   "id": "10c43912-cba2-4a47-982a-fd216a92446d",
   "metadata": {
    "tags": []
   },
   "outputs": [
    {
     "data": {
      "text/html": [
       "<div>\n",
       "<style scoped>\n",
       "    .dataframe tbody tr th:only-of-type {\n",
       "        vertical-align: middle;\n",
       "    }\n",
       "\n",
       "    .dataframe tbody tr th {\n",
       "        vertical-align: top;\n",
       "    }\n",
       "\n",
       "    .dataframe thead th {\n",
       "        text-align: right;\n",
       "    }\n",
       "</style>\n",
       "<table border=\"1\" class=\"dataframe\">\n",
       "  <thead>\n",
       "    <tr style=\"text-align: right;\">\n",
       "      <th></th>\n",
       "      <th>count</th>\n",
       "      <th>mean</th>\n",
       "      <th>std</th>\n",
       "      <th>min</th>\n",
       "      <th>25%</th>\n",
       "      <th>50%</th>\n",
       "      <th>75%</th>\n",
       "      <th>max</th>\n",
       "    </tr>\n",
       "  </thead>\n",
       "  <tbody>\n",
       "    <tr>\n",
       "      <th>total ads</th>\n",
       "      <td>588101.0</td>\n",
       "      <td>24.820876</td>\n",
       "      <td>43.715181</td>\n",
       "      <td>1.0</td>\n",
       "      <td>4.0</td>\n",
       "      <td>13.0</td>\n",
       "      <td>27.0</td>\n",
       "      <td>2065.0</td>\n",
       "    </tr>\n",
       "    <tr>\n",
       "      <th>most ads hour</th>\n",
       "      <td>588101.0</td>\n",
       "      <td>14.469061</td>\n",
       "      <td>4.834634</td>\n",
       "      <td>0.0</td>\n",
       "      <td>11.0</td>\n",
       "      <td>14.0</td>\n",
       "      <td>18.0</td>\n",
       "      <td>23.0</td>\n",
       "    </tr>\n",
       "  </tbody>\n",
       "</table>\n",
       "</div>"
      ],
      "text/plain": [
       "                  count       mean        std  min   25%   50%   75%     max\n",
       "total ads      588101.0  24.820876  43.715181  1.0   4.0  13.0  27.0  2065.0\n",
       "most ads hour  588101.0  14.469061   4.834634  0.0  11.0  14.0  18.0    23.0"
      ]
     },
     "execution_count": 10,
     "metadata": {},
     "output_type": "execute_result"
    }
   ],
   "source": [
    "df.describe().T"
   ]
  },
  {
   "cell_type": "code",
   "execution_count": 11,
   "id": "6a22bc92-70f1-4d3a-90bd-8173661771b4",
   "metadata": {
    "tags": []
   },
   "outputs": [
    {
     "name": "stdout",
     "output_type": "stream",
     "text": [
      "Test group: ['ad' 'psa']\n",
      "Most ads day: ['Monday' 'Tuesday' 'Friday' 'Saturday' 'Wednesday' 'Sunday' 'Thursday']\n",
      "Converted: [False  True]\n"
     ]
    }
   ],
   "source": [
    "# Unique value in categorical cólumn\n",
    "cat_column = [\"test group\", \"most ads day\", \"converted\"]\n",
    "for col in cat_column:\n",
    "    coll = col.capitalize()\n",
    "    print(f\"{coll}:\" ,df[col].unique())"
   ]
  },
  {
   "cell_type": "code",
   "execution_count": 12,
   "id": "7d7fd777-b559-4360-8cfb-287218e4ffe0",
   "metadata": {
    "tags": []
   },
   "outputs": [
    {
     "data": {
      "text/plain": [
       "test group       object\n",
       "converted         int32\n",
       "total ads         int64\n",
       "most ads day     object\n",
       "most ads hour     int64\n",
       "dtype: object"
      ]
     },
     "execution_count": 12,
     "metadata": {},
     "output_type": "execute_result"
    }
   ],
   "source": [
    "# convert 'Converted' to integer\n",
    "df['converted'] = df['converted'].astype(int)\n",
    "df.dtypes"
   ]
  },
  {
   "cell_type": "markdown",
   "id": "fb31d943-56b6-4f22-9b99-3f75bc683afa",
   "metadata": {
    "tags": []
   },
   "source": [
    "## Statistical Testing and Interpretation "
   ]
  },
  {
   "cell_type": "markdown",
   "id": "458382db-b36d-49e6-84a1-45bde4d8351b",
   "metadata": {},
   "source": [
    "Since we expect test group to have higher conversion rate than the control group, One tail test is appropriate. And in this case I am only interested in knowing if the Ads are better alternative to PSA else we stop the asd and channel our resources to other investment\n",
    "\n",
    "In cases where it is paramount to know if it perform worse or better (Or if there is a significant  difference the two. then Two tail test is appropriate ie Ho: M1 = M2\n",
    "\n",
    "*H0*: M1 <= M2 The test gp conversion rate is less than or equals control gp\n",
    "\n",
    "*H1*: M1 > M2 the test group performs significantly better."
   ]
  },
  {
   "cell_type": "code",
   "execution_count": 13,
   "id": "2edbf72a-a246-4d50-b2c1-34abd5bb3bc6",
   "metadata": {
    "tags": []
   },
   "outputs": [
    {
     "name": "stdout",
     "output_type": "stream",
     "text": [
      "Test Group Analysis - T-statistic: 7.37040597428566, P-value:8.516526313915632e-14\n"
     ]
    }
   ],
   "source": [
    "# Setting up ou\n",
    "control_group =df[df['test group']== 'psa'] \n",
    "test_group = df[df['test group'] == \"ad\"]\n",
    "\n",
    "t_stat, p_val = stats.ttest_ind(test_group['converted'], control_group['converted'], alternative='greater')\n",
    "print(f\"Test Group Analysis - T-statistic: {t_stat}, P-value:{p_val}\")"
   ]
  },
  {
   "cell_type": "markdown",
   "id": "b2186cfb-38b5-4a2b-9e2f-614f202b11fa",
   "metadata": {},
   "source": [
    "##### Acceptance criteria"
   ]
  },
  {
   "cell_type": "code",
   "execution_count": 14,
   "id": "025fb501-309d-4ce9-92db-bbff7e67607d",
   "metadata": {
    "tags": []
   },
   "outputs": [
    {
     "name": "stdout",
     "output_type": "stream",
     "text": [
      "Reject the null hypothesis: There is a significant difference in conversion rates between the ad and the 'psa' groups\n"
     ]
    }
   ],
   "source": [
    "if p_val < 0.05:\n",
    "    print(\"Reject the null hypothesis: There is a significant difference in conversion rates between the ad and the 'psa' groups\")\n",
    "else:\n",
    "    print(\"Fail to reject the null Hypothesis: There is no significant difference in conversion rates between the 'ad' and 'psa'\")"
   ]
  },
  {
   "cell_type": "markdown",
   "id": "8b3bac69-4589-48ba-8aab-32597519880b",
   "metadata": {},
   "source": [
    "## ``Most ads Day``\n",
    "\n",
    "#### (One-way Anova test)"
   ]
  },
  {
   "cell_type": "markdown",
   "id": "cc1b5bfa-c65c-43c6-a695-8c9373d10852",
   "metadata": {},
   "source": [
    "A one-way ANOVA (Analysis of Variance) test is appropriate when you want to compare the means of three or more independent groups to determine if at least one group mean is significantly different from the others.\n",
    "\n",
    ">Assumptions of ANOVA:\n",
    "\n",
    "*Normality*: The data within each group (each day) should be approximately normally distributed.\n",
    "\n",
    "*Homogeneity of Variances*: \n",
    "\n",
    "    The variances across the groups (days) should be roughly equal. When this assumption is violated (heteroscedasticity), the statistical tests that assume equal variances, like the one-way ANOVA, may give misleading results, particularly by increasing the chances of a Type I error (falsely detecting a difference when there isn't one). This can be checked with tests like Levene’s test.\n",
    "\n",
    "*Independence*: The observations should be independent of each other."
   ]
  },
  {
   "cell_type": "markdown",
   "id": "f075d973-0587-4d44-93d2-8fcb9aa83bfa",
   "metadata": {
    "tags": []
   },
   "source": [
    "#### Check the normality of data using Shapiro"
   ]
  },
  {
   "cell_type": "code",
   "execution_count": 15,
   "id": "5222f94e-8e27-486b-a958-cb4211ff7692",
   "metadata": {
    "tags": []
   },
   "outputs": [
    {
     "name": "stderr",
     "output_type": "stream",
     "text": [
      "C:\\Users\\Olu\\anaconda3\\Lib\\site-packages\\scipy\\stats\\_morestats.py:1882: UserWarning: p-value may not be accurate for N > 5000.\n",
      "  warnings.warn(\"p-value may not be accurate for N > 5000.\")\n"
     ]
    },
    {
     "name": "stdout",
     "output_type": "stream",
     "text": [
      "Normality test for Monday - W-statistic: 0.16918176412582397, P-value: 0.0\n",
      "Normality test for Tuesday - W-statistic: 0.15851646661758423, P-value: 0.0\n",
      "Normality test for Friday - W-statistic: 0.12890702486038208, P-value: 0.0\n",
      "Normality test for Saturday - W-statistic: 0.12406885623931885, P-value: 0.0\n",
      "Normality test for Wednesday - W-statistic: 0.13990962505340576, P-value: 0.0\n",
      "Normality test for Sunday - W-statistic: 0.13806015253067017, P-value: 0.0\n",
      "Normality test for Thursday - W-statistic: 0.1262480616569519, P-value: 0.0\n"
     ]
    }
   ],
   "source": [
    "normality_results = {\n",
    "    day: stats.shapiro(df[df['most ads day'] == day]['converted'])\n",
    "    for day in df['most ads day'].unique()\n",
    "}\n",
    "\n",
    "# Print normality test results\n",
    "for day, result in normality_results.items():\n",
    "    print(f\"Normality test for {day} - W-statistic: {result.statistic}, P-value: {result.pvalue}\")\n"
   ]
  },
  {
   "cell_type": "markdown",
   "id": "e863b51b-fcd1-45c7-8a00-584e6cc9abe2",
   "metadata": {
    "tags": []
   },
   "source": [
    "\n",
    "P-value of 0.0:\n",
    "A p-value < 0.05 indicates strong evidence against the null hypothesis of normality. This suggests that the conversion data for each day is not normally distributed.\n",
    "W-statistic:\n",
    "The W-statistic values you see (ranging from about 0.12 to 0.17) are quite low, which further indicates that the data deviates significantly from a normal distribution.\n",
    "\n",
    "Conclusion:\n",
    "\n",
    "    Given the results of the Shapiro-Wilk test, it would be advisable to either switch to a non-parametric test like the Kruskal-Wallis test or apply data transformations if you wish to stick with ANOVA. we can use Levene's test to check equality of variance."
   ]
  },
  {
   "cell_type": "markdown",
   "id": "8f0c9f22-6cd8-43b8-969a-ee44a00d1de1",
   "metadata": {},
   "source": [
    "#### Levene's test  (check equality of variance)\n",
    "\n",
    "    Null Hypothesis (H0): The variances across the different groups (days of the week) are equal.\n",
    "\n",
    "    Alternative Hypothesis (H1): At least one group has a variance different from the others."
   ]
  },
  {
   "cell_type": "code",
   "execution_count": 16,
   "id": "5aecdeab-bfdd-43a6-892c-8d74440de8af",
   "metadata": {
    "tags": []
   },
   "outputs": [
    {
     "name": "stdout",
     "output_type": "stream",
     "text": [
      "Levene's Test - W-statistic: 68.38818386898062, P-value: 1.8032007655359558e-85\n"
     ]
    }
   ],
   "source": [
    "\n",
    "# Group the data by 'most ads day' and extract the 'converted' values\n",
    "groups = [group['converted'].values for name, group in df.groupby('most ads day')]\n",
    "\n",
    "# Performing Levene's test\n",
    "levene_result = stats.levene(*groups)\n",
    "\n",
    "# Print the results\n",
    "print(f\"Levene's Test - W-statistic: {levene_result.statistic}, P-value: {levene_result.pvalue}\")"
   ]
  },
  {
   "cell_type": "markdown",
   "id": "a45574e9-093c-430e-b147-b596934c69fa",
   "metadata": {
    "tags": []
   },
   "source": [
    "The p-value is extremely small (much less than 0.05). This indicates strong evidence against the null hypothesis. Thus, we fail to accept the null hypothesis and conclude that the variances are significantly different across at least some of the groups.\n",
    "\n",
    "Since the assumption of ANOVA are not met. *It is  recommended we proceed with non parametric alternative the Kruskal-Wallis test to compare the conversion rates across the days of the week.*"
   ]
  },
  {
   "cell_type": "markdown",
   "id": "817f4564-2ba0-421a-b0f7-e5adb083e8ca",
   "metadata": {
    "tags": []
   },
   "source": [
    "#### Kruskal-Wallis test\n",
    "Null Hypothesis (H0): The medians of the conversion rates across Most ads Days are equal.\n",
    "\n",
    "Alternative Hypothesis (H1): At least one group has a different median."
   ]
  },
  {
   "cell_type": "code",
   "execution_count": 17,
   "id": "82bcb894-5037-40bb-9f5c-d002f8901dbc",
   "metadata": {
    "tags": []
   },
   "outputs": [
    {
     "name": "stdout",
     "output_type": "stream",
     "text": [
      "Kruskal-Wallis Test - H-statistic: 410.0471885500196, P-value: 1.9328515571262067e-85\n"
     ]
    }
   ],
   "source": [
    "# Performing Kruskal-Wallis test\n",
    "kruskal_result = stats.kruskal(*groups)\n",
    "\n",
    "# Print the results\n",
    "print(f\"Kruskal-Wallis Test - H-statistic: {kruskal_result.statistic}, P-value: {kruskal_result.pvalue}\")\n"
   ]
  },
  {
   "cell_type": "markdown",
   "id": "cf84fac6-9909-4e61-a571-bb4f68225a03",
   "metadata": {
    "tags": []
   },
   "source": [
    "P-value: The extremely small p-value (much less than 0.05) indicates strong evidence against the null hypothesis. Therefore, we fail to accept the null hypothesis: there are significant differences in the medians of the conversion rates across the days most ads seen. the day with most ad seen significantly affect the conversion rate"
   ]
  },
  {
   "cell_type": "markdown",
   "id": "4da5d391-6406-4408-a63e-23cb12ee2a7c",
   "metadata": {
    "tags": []
   },
   "source": [
    "## `Most Ads Hours`\n",
    "\n",
    "Before using One way Anova test, we first test for the three assumption"
   ]
  },
  {
   "cell_type": "markdown",
   "id": "ba359e8e-ebbb-42e0-8496-ff8990e449b9",
   "metadata": {
    "tags": []
   },
   "source": [
    "#### Normality Test (Shapiro Wilk)\n",
    "\n",
    "    Ho: Distribution of conversion rate follows a normal disitribution\n",
    "    H1 : "
   ]
  },
  {
   "cell_type": "code",
   "execution_count": 18,
   "id": "c9332bb2-6831-4a25-aa40-b93842a23ae5",
   "metadata": {
    "tags": []
   },
   "outputs": [
    {
     "name": "stdout",
     "output_type": "stream",
     "text": [
      "Hour 0 - W-statistic: 0.11272329092025757, P-value: 0.0\n",
      "Hour 1 - W-statistic: 0.08687299489974976, P-value: 0.0\n",
      "Hour 2 - W-statistic: 0.056504905223846436, P-value: 0.0\n",
      "Hour 3 - W-statistic: 0.0741877555847168, P-value: 0.0\n",
      "Hour 4 - W-statistic: 0.09831768274307251, P-value: 0.0\n",
      "Hour 5 - W-statistic: 0.12354159355163574, P-value: 0.0\n",
      "Hour 6 - W-statistic: 0.12899833917617798, P-value: 0.0\n",
      "Hour 7 - W-statistic: 0.11133384704589844, P-value: 0.0\n",
      "Hour 8 - W-statistic: 0.11750525236129761, P-value: 0.0\n",
      "Hour 9 - W-statistic: 0.11610382795333862, P-value: 0.0\n",
      "Hour 10 - W-statistic: 0.12603217363357544, P-value: 0.0\n",
      "Hour 11 - W-statistic: 0.1285075545310974, P-value: 0.0\n",
      "Hour 12 - W-statistic: 0.13546788692474365, P-value: 0.0\n",
      "Hour 13 - W-statistic: 0.1388574242591858, P-value: 0.0\n",
      "Hour 14 - W-statistic: 0.15190786123275757, P-value: 0.0\n",
      "Hour 15 - W-statistic: 0.15781790018081665, P-value: 0.0\n",
      "Hour 16 - W-statistic: 0.1618971824645996, P-value: 0.0\n",
      "Hour 17 - W-statistic: 0.15245842933654785, P-value: 0.0\n",
      "Hour 18 - W-statistic: 0.14932775497436523, P-value: 0.0\n",
      "Hour 19 - W-statistic: 0.14680850505828857, P-value: 0.0\n",
      "Hour 20 - W-statistic: 0.15836447477340698, P-value: 0.0\n",
      "Hour 21 - W-statistic: 0.15511775016784668, P-value: 0.0\n",
      "Hour 22 - W-statistic: 0.14443492889404297, P-value: 0.0\n",
      "Hour 23 - W-statistic: 0.13073945045471191, P-value: 0.0\n"
     ]
    },
    {
     "name": "stderr",
     "output_type": "stream",
     "text": [
      "C:\\Users\\Olu\\anaconda3\\Lib\\site-packages\\scipy\\stats\\_morestats.py:1882: UserWarning: p-value may not be accurate for N > 5000.\n",
      "  warnings.warn(\"p-value may not be accurate for N > 5000.\")\n"
     ]
    }
   ],
   "source": [
    "\n",
    "normality_results = {hour: stats.shapiro(df[df['most ads hour'] == hour]['converted']) for hour in range(24)}\n",
    "\n",
    "# Print results\n",
    "for hour, result in normality_results.items():\n",
    "    print(f\"Hour {hour} - W-statistic: {result.statistic}, P-value: {result.pvalue}\")\n"
   ]
  },
  {
   "cell_type": "markdown",
   "id": "6f7bd90f-8a90-4a67-b17b-11293a7b9393",
   "metadata": {
    "tags": []
   },
   "source": [
    "with Pvalue > 0.05, we fail to accept the Null Hypothesis. The distribution does not follows a normal distribution\n"
   ]
  },
  {
   "cell_type": "markdown",
   "id": "1bc63f95-b053-4f35-afce-dd319424ea95",
   "metadata": {},
   "source": [
    "#### Categorizing our hour of the Day"
   ]
  },
  {
   "cell_type": "code",
   "execution_count": 19,
   "id": "c81f94e0-4681-4a37-82b5-bcb4eea5a450",
   "metadata": {
    "tags": []
   },
   "outputs": [
    {
     "name": "stdout",
     "output_type": "stream",
     "text": [
      "  test group  converted  total ads most ads day  most ads hour  time_slot\n",
      "0         ad          0        130       Monday             20    Evening\n",
      "1         ad          0         93      Tuesday             22      Night\n",
      "2         ad          0         21      Tuesday             18    Evening\n",
      "3         ad          0        355      Tuesday             10    Morning\n",
      "4         ad          0        276       Friday             14  Afternoon\n"
     ]
    }
   ],
   "source": [
    "# Define a function to categorize hours into time slots\n",
    "def categorize_hour(hour):\n",
    "    if 5 <= hour < 12:\n",
    "        return 'Morning'\n",
    "    elif 12 <= hour < 17:\n",
    "        return 'Afternoon'\n",
    "    elif 17 <= hour < 21:\n",
    "        return 'Evening'\n",
    "    else:\n",
    "        return 'Night'\n",
    "\n",
    "# Apply the function to create a new column in the DataFrame\n",
    "df['time_slot'] = df['most ads hour'].apply(categorize_hour)\n",
    "\n",
    "# Display the updated DataFrame\n",
    "print(df.head())"
   ]
  },
  {
   "cell_type": "markdown",
   "id": "a390aceb-42ae-41ac-911f-f2a68bb1df0b",
   "metadata": {},
   "source": [
    "#### Normality Test for the Grouped Data "
   ]
  },
  {
   "cell_type": "code",
   "execution_count": 22,
   "id": "c976cc2f-087e-464c-a703-3a2c97260460",
   "metadata": {},
   "outputs": [
    {
     "name": "stdout",
     "output_type": "stream",
     "text": [
      "Evening - W-statistic: 0.15168678760528564, P-value: 0.0\n",
      "Night - W-statistic: 0.13450682163238525, P-value: 0.0\n",
      "Morning - W-statistic: 0.12307709455490112, P-value: 0.0\n",
      "Afternoon - W-statistic: 0.14871442317962646, P-value: 0.0\n"
     ]
    }
   ],
   "source": [
    "normality_results = {slot: stats.shapiro(df[df['time_slot'] == slot]['converted']) for slot in df['time_slot'].unique()}\n",
    "\n",
    "# Print results\n",
    "for slot, result in normality_results.items():\n",
    "    print(f\"{slot} - W-statistic: {result.statistic}, P-value: {result.pvalue}\")"
   ]
  },
  {
   "cell_type": "markdown",
   "id": "81798c85-7e71-481d-8522-6fb96c5f7b91",
   "metadata": {},
   "source": [
    "We fail to accept the null hypothesis for each time slot, as the p-values are all 0.0 (or extremely close to 0). The  the data deos not come from a normal distribution. "
   ]
  },
  {
   "cell_type": "markdown",
   "id": "fc3638b5-7e6e-434a-9239-fa186f2b6232",
   "metadata": {
    "tags": []
   },
   "source": [
    "#### Levene Test (Homogeneity of Variance)\n",
    "    Null Hypothesis (H0): The variances across the different groups (days of the week) are equal.\n",
    "    Alternative Hypothesis (H1): At least one group has a variance different from the others."
   ]
  },
  {
   "cell_type": "code",
   "execution_count": 24,
   "id": "0b4b6ae4-9ecb-432e-a0e6-27e3f8d0e946",
   "metadata": {
    "tags": []
   },
   "outputs": [
    {
     "name": "stdout",
     "output_type": "stream",
     "text": [
      "Levene's Test - W-statistic: 66.38917579024178, P-value: 6.4905782650617536e-43\n"
     ]
    }
   ],
   "source": [
    "# Group the data by 'most ads day' and extract the 'converted' values\n",
    "groups = [group['converted'].values for name, group in df.groupby('time_slot')]\n",
    "\n",
    "# Performing Levene's test\n",
    "levene_result = stats.levene(*groups)\n",
    "\n",
    "# Print the results\n",
    "print(f\"Levene's Test - W-statistic: {levene_result.statistic}, P-value: {levene_result.pvalue}\")"
   ]
  },
  {
   "cell_type": "markdown",
   "id": "7a866b20-ae6d-4867-99b4-dacfbb575b34",
   "metadata": {},
   "source": [
    "    A higher W-statistic typically suggests greater evidence against the null hypothesis of equal variances. high w statistics  means that the difference in variance is really high\n",
    "\n",
    "    P-value < 0.05: Since the p-value is extremely low, this means that you reject the null hypothesis of equal variances. In other words, there is strong evidence that the variances between the groups are not equal (i.e., the variances are heterogeneous)"
   ]
  },
  {
   "cell_type": "markdown",
   "id": "a976967c-aedc-4a36-b1b0-87c6741645f0",
   "metadata": {},
   "source": [
    "### Interpretation of  W- statistics and P Value\n",
    "\n",
    "High W-statistic + Low P-value: There is a large and significant difference in variances across the groups. This suggests strong heteroscedasticity (non-equal variances), \n",
    "\n",
    "Low W-statistic + Low P-value: Even though the variance differences might be small (low W-statistic), the p-value indicates that these differences are still statistically significant. You should still reject the null hypothesis of equal variances and avoid methods that assume homogeneity of variances.\n",
    "\n",
    "High W-statistic + High P-value: There may be large differences in variances between the groups, but these differences are not statistically significant. Therefore, you can assume equal variances and proceed with parametric tests that rely on this assumption."
   ]
  },
  {
   "cell_type": "markdown",
   "id": "0edb04c1-0621-4321-80de-2d5ba932c49e",
   "metadata": {
    "tags": []
   },
   "source": [
    "#### Kruskal-Wallis test\n",
    "Null Hypothesis (H0): The medians of the conversion rates across different `Time Slot` are equal.\n",
    "\n",
    "Alternative Hypothesis (H1): At least one group has a different median."
   ]
  },
  {
   "cell_type": "code",
   "execution_count": 26,
   "id": "523713af-ff4a-4963-873b-e7e65d15f6d8",
   "metadata": {
    "tags": []
   },
   "outputs": [
    {
     "name": "stdout",
     "output_type": "stream",
     "text": [
      "Kruskal-Wallis Test - H-statistic: 199.10111489692432, P-value: 6.597573131624109e-43\n"
     ]
    }
   ],
   "source": [
    "kruskal_result = stats.kruskal(*groups)\n",
    "\n",
    "# Print the results\n",
    "print(f\"Kruskal-Wallis Test - H-statistic: {kruskal_result.statistic}, P-value: {kruskal_result.pvalue}\")"
   ]
  },
  {
   "cell_type": "code",
   "execution_count": 27,
   "id": "3c95502b-f2ad-4776-bd99-8e28792e075a",
   "metadata": {
    "tags": []
   },
   "outputs": [
    {
     "name": "stdout",
     "output_type": "stream",
     "text": [
      "Reject the null hypothesis: There is a significant difference in conversion rates among different Time slot).\n"
     ]
    }
   ],
   "source": [
    "if kruskal_result.pvalue < 0.05:\n",
    "    print(\"Reject the null hypothesis: There is a significant difference in conversion rates among different Time slot).\")\n",
    "else:\n",
    "    print(\"Fail to reject the null hypothesis: The Hour of the day does not significantly affect conversion rates.\")"
   ]
  },
  {
   "cell_type": "markdown",
   "id": "057392da-16aa-46b4-abbf-5ad7b8562e03",
   "metadata": {
    "tags": []
   },
   "source": [
    "## Total Ads Seen"
   ]
  },
  {
   "cell_type": "code",
   "execution_count": 48,
   "id": "8ac7912c-c904-42c1-8c87-ace85e15bded",
   "metadata": {
    "tags": []
   },
   "outputs": [
    {
     "name": "stdout",
     "output_type": "stream",
     "text": [
      "<class 'pandas.core.frame.DataFrame'>\n",
      "RangeIndex: 588101 entries, 0 to 588100\n",
      "Data columns (total 7 columns):\n",
      " #   Column         Non-Null Count   Dtype   \n",
      "---  ------         --------------   -----   \n",
      " 0   test group     588101 non-null  object  \n",
      " 1   converted      588101 non-null  int32   \n",
      " 2   total ads      588101 non-null  int64   \n",
      " 3   most ads day   588101 non-null  object  \n",
      " 4   most ads hour  588101 non-null  int64   \n",
      " 5   time_slot      588101 non-null  object  \n",
      " 6   total_ads_bin  588101 non-null  category\n",
      "dtypes: category(1), int32(1), int64(2), object(3)\n",
      "memory usage: 25.2+ MB\n"
     ]
    }
   ],
   "source": [
    "# Include all data\n",
    "df_subset = df.copy()  \n",
    "\n",
    "# Create bins for total_ads\n",
    "df_subset.loc[:, 'total_ads_bin'] = pd.cut(df_subset['total ads'], \n",
    "                                            bins=[-1, 1, 5, 10, 20, 30, 40, 50, float('inf')], \n",
    "                                            labels=['0-1', '2-5', '6-10', '11-20', '21-30', '31-40', '41-50', '51+'])\n",
    "\n",
    "df_subset.info()"
   ]
  },
  {
   "cell_type": "code",
   "execution_count": 37,
   "id": "e33e0b5f-f8d8-4b60-8eb7-2bf9bb804a1b",
   "metadata": {
    "tags": []
   },
   "outputs": [
    {
     "name": "stdout",
     "output_type": "stream",
     "text": [
      "Kruskal-Wallis Test - H-statistic: 48001.90857274639, P-value: 0.0\n"
     ]
    }
   ],
   "source": [
    "bins = [group['converted'].values for name, group in df_subset.groupby('total ads')]\n",
    "kruskal_result = stats.kruskal(*bins)\n",
    "\n",
    "print(f\"Kruskal-Wallis Test - H-statistic: {kruskal_result.statistic}, P-value: {kruskal_result.pvalue}\")"
   ]
  },
  {
   "cell_type": "code",
   "execution_count": 39,
   "id": "633a0bb1-0ec9-49a7-9330-079dd59c7eca",
   "metadata": {
    "tags": []
   },
   "outputs": [
    {
     "name": "stdout",
     "output_type": "stream",
     "text": [
      "Reject the null hypothesis: conversion rates median varies with different exposure duration).\n"
     ]
    }
   ],
   "source": [
    "if kruskal_result.pvalue < 0.05:\n",
    "    print(\"Reject the null hypothesis: conversion rates median varies with different exposure duration).\")\n",
    "else:\n",
    "    print(\"Fail to reject the null hypothesis: The Exposure period does not significantly affect conversion rates.\")"
   ]
  },
  {
   "cell_type": "markdown",
   "id": "88eb2daf-f055-41f2-90bd-0caa23b89772",
   "metadata": {},
   "source": [
    "## Visualization"
   ]
  },
  {
   "cell_type": "code",
   "execution_count": 46,
   "id": "c2d7a016-5fcd-45b6-a461-325e0a0584f9",
   "metadata": {
    "tags": []
   },
   "outputs": [
    {
     "data": {
      "application/vnd.plotly.v1+json": {
       "config": {
        "plotlyServerURL": "https://plot.ly"
       },
       "data": [
        {
         "alignmentgroup": "True",
         "hovertemplate": "Test Group=%{x}<br>Conversion Rate=%{text}<extra></extra>",
         "legendgroup": "Control (PSA)",
         "marker": {
          "color": "#636efa",
          "pattern": {
           "shape": ""
          }
         },
         "name": "Control (PSA)",
         "offsetgroup": "Control (PSA)",
         "orientation": "v",
         "showlegend": true,
         "text": [
          0.018
         ],
         "textposition": "auto",
         "type": "bar",
         "x": [
          "Control (PSA)"
         ],
         "xaxis": "x",
         "y": [
          0.018
         ],
         "yaxis": "y"
        },
        {
         "alignmentgroup": "True",
         "hovertemplate": "Test Group=%{x}<br>Conversion Rate=%{text}<extra></extra>",
         "legendgroup": "Test (AD)",
         "marker": {
          "color": "#EF553B",
          "pattern": {
           "shape": ""
          }
         },
         "name": "Test (AD)",
         "offsetgroup": "Test (AD)",
         "orientation": "v",
         "showlegend": true,
         "text": [
          0.026
         ],
         "textposition": "auto",
         "type": "bar",
         "x": [
          "Test (AD)"
         ],
         "xaxis": "x",
         "y": [
          0.026
         ],
         "yaxis": "y"
        }
       ],
       "layout": {
        "autosize": true,
        "barmode": "relative",
        "legend": {
         "title": {
          "text": "Test Group"
         },
         "tracegroupgap": 0
        },
        "template": {
         "data": {
          "bar": [
           {
            "error_x": {
             "color": "#2a3f5f"
            },
            "error_y": {
             "color": "#2a3f5f"
            },
            "marker": {
             "line": {
              "color": "white",
              "width": 0.5
             },
             "pattern": {
              "fillmode": "overlay",
              "size": 10,
              "solidity": 0.2
             }
            },
            "type": "bar"
           }
          ],
          "barpolar": [
           {
            "marker": {
             "line": {
              "color": "white",
              "width": 0.5
             },
             "pattern": {
              "fillmode": "overlay",
              "size": 10,
              "solidity": 0.2
             }
            },
            "type": "barpolar"
           }
          ],
          "carpet": [
           {
            "aaxis": {
             "endlinecolor": "#2a3f5f",
             "gridcolor": "#C8D4E3",
             "linecolor": "#C8D4E3",
             "minorgridcolor": "#C8D4E3",
             "startlinecolor": "#2a3f5f"
            },
            "baxis": {
             "endlinecolor": "#2a3f5f",
             "gridcolor": "#C8D4E3",
             "linecolor": "#C8D4E3",
             "minorgridcolor": "#C8D4E3",
             "startlinecolor": "#2a3f5f"
            },
            "type": "carpet"
           }
          ],
          "choropleth": [
           {
            "colorbar": {
             "outlinewidth": 0,
             "ticks": ""
            },
            "type": "choropleth"
           }
          ],
          "contour": [
           {
            "colorbar": {
             "outlinewidth": 0,
             "ticks": ""
            },
            "colorscale": [
             [
              0,
              "#0d0887"
             ],
             [
              0.1111111111111111,
              "#46039f"
             ],
             [
              0.2222222222222222,
              "#7201a8"
             ],
             [
              0.3333333333333333,
              "#9c179e"
             ],
             [
              0.4444444444444444,
              "#bd3786"
             ],
             [
              0.5555555555555556,
              "#d8576b"
             ],
             [
              0.6666666666666666,
              "#ed7953"
             ],
             [
              0.7777777777777778,
              "#fb9f3a"
             ],
             [
              0.8888888888888888,
              "#fdca26"
             ],
             [
              1,
              "#f0f921"
             ]
            ],
            "type": "contour"
           }
          ],
          "contourcarpet": [
           {
            "colorbar": {
             "outlinewidth": 0,
             "ticks": ""
            },
            "type": "contourcarpet"
           }
          ],
          "heatmap": [
           {
            "colorbar": {
             "outlinewidth": 0,
             "ticks": ""
            },
            "colorscale": [
             [
              0,
              "#0d0887"
             ],
             [
              0.1111111111111111,
              "#46039f"
             ],
             [
              0.2222222222222222,
              "#7201a8"
             ],
             [
              0.3333333333333333,
              "#9c179e"
             ],
             [
              0.4444444444444444,
              "#bd3786"
             ],
             [
              0.5555555555555556,
              "#d8576b"
             ],
             [
              0.6666666666666666,
              "#ed7953"
             ],
             [
              0.7777777777777778,
              "#fb9f3a"
             ],
             [
              0.8888888888888888,
              "#fdca26"
             ],
             [
              1,
              "#f0f921"
             ]
            ],
            "type": "heatmap"
           }
          ],
          "heatmapgl": [
           {
            "colorbar": {
             "outlinewidth": 0,
             "ticks": ""
            },
            "colorscale": [
             [
              0,
              "#0d0887"
             ],
             [
              0.1111111111111111,
              "#46039f"
             ],
             [
              0.2222222222222222,
              "#7201a8"
             ],
             [
              0.3333333333333333,
              "#9c179e"
             ],
             [
              0.4444444444444444,
              "#bd3786"
             ],
             [
              0.5555555555555556,
              "#d8576b"
             ],
             [
              0.6666666666666666,
              "#ed7953"
             ],
             [
              0.7777777777777778,
              "#fb9f3a"
             ],
             [
              0.8888888888888888,
              "#fdca26"
             ],
             [
              1,
              "#f0f921"
             ]
            ],
            "type": "heatmapgl"
           }
          ],
          "histogram": [
           {
            "marker": {
             "pattern": {
              "fillmode": "overlay",
              "size": 10,
              "solidity": 0.2
             }
            },
            "type": "histogram"
           }
          ],
          "histogram2d": [
           {
            "colorbar": {
             "outlinewidth": 0,
             "ticks": ""
            },
            "colorscale": [
             [
              0,
              "#0d0887"
             ],
             [
              0.1111111111111111,
              "#46039f"
             ],
             [
              0.2222222222222222,
              "#7201a8"
             ],
             [
              0.3333333333333333,
              "#9c179e"
             ],
             [
              0.4444444444444444,
              "#bd3786"
             ],
             [
              0.5555555555555556,
              "#d8576b"
             ],
             [
              0.6666666666666666,
              "#ed7953"
             ],
             [
              0.7777777777777778,
              "#fb9f3a"
             ],
             [
              0.8888888888888888,
              "#fdca26"
             ],
             [
              1,
              "#f0f921"
             ]
            ],
            "type": "histogram2d"
           }
          ],
          "histogram2dcontour": [
           {
            "colorbar": {
             "outlinewidth": 0,
             "ticks": ""
            },
            "colorscale": [
             [
              0,
              "#0d0887"
             ],
             [
              0.1111111111111111,
              "#46039f"
             ],
             [
              0.2222222222222222,
              "#7201a8"
             ],
             [
              0.3333333333333333,
              "#9c179e"
             ],
             [
              0.4444444444444444,
              "#bd3786"
             ],
             [
              0.5555555555555556,
              "#d8576b"
             ],
             [
              0.6666666666666666,
              "#ed7953"
             ],
             [
              0.7777777777777778,
              "#fb9f3a"
             ],
             [
              0.8888888888888888,
              "#fdca26"
             ],
             [
              1,
              "#f0f921"
             ]
            ],
            "type": "histogram2dcontour"
           }
          ],
          "mesh3d": [
           {
            "colorbar": {
             "outlinewidth": 0,
             "ticks": ""
            },
            "type": "mesh3d"
           }
          ],
          "parcoords": [
           {
            "line": {
             "colorbar": {
              "outlinewidth": 0,
              "ticks": ""
             }
            },
            "type": "parcoords"
           }
          ],
          "pie": [
           {
            "automargin": true,
            "type": "pie"
           }
          ],
          "scatter": [
           {
            "fillpattern": {
             "fillmode": "overlay",
             "size": 10,
             "solidity": 0.2
            },
            "type": "scatter"
           }
          ],
          "scatter3d": [
           {
            "line": {
             "colorbar": {
              "outlinewidth": 0,
              "ticks": ""
             }
            },
            "marker": {
             "colorbar": {
              "outlinewidth": 0,
              "ticks": ""
             }
            },
            "type": "scatter3d"
           }
          ],
          "scattercarpet": [
           {
            "marker": {
             "colorbar": {
              "outlinewidth": 0,
              "ticks": ""
             }
            },
            "type": "scattercarpet"
           }
          ],
          "scattergeo": [
           {
            "marker": {
             "colorbar": {
              "outlinewidth": 0,
              "ticks": ""
             }
            },
            "type": "scattergeo"
           }
          ],
          "scattergl": [
           {
            "marker": {
             "colorbar": {
              "outlinewidth": 0,
              "ticks": ""
             }
            },
            "type": "scattergl"
           }
          ],
          "scattermapbox": [
           {
            "marker": {
             "colorbar": {
              "outlinewidth": 0,
              "ticks": ""
             }
            },
            "type": "scattermapbox"
           }
          ],
          "scatterpolar": [
           {
            "marker": {
             "colorbar": {
              "outlinewidth": 0,
              "ticks": ""
             }
            },
            "type": "scatterpolar"
           }
          ],
          "scatterpolargl": [
           {
            "marker": {
             "colorbar": {
              "outlinewidth": 0,
              "ticks": ""
             }
            },
            "type": "scatterpolargl"
           }
          ],
          "scatterternary": [
           {
            "marker": {
             "colorbar": {
              "outlinewidth": 0,
              "ticks": ""
             }
            },
            "type": "scatterternary"
           }
          ],
          "surface": [
           {
            "colorbar": {
             "outlinewidth": 0,
             "ticks": ""
            },
            "colorscale": [
             [
              0,
              "#0d0887"
             ],
             [
              0.1111111111111111,
              "#46039f"
             ],
             [
              0.2222222222222222,
              "#7201a8"
             ],
             [
              0.3333333333333333,
              "#9c179e"
             ],
             [
              0.4444444444444444,
              "#bd3786"
             ],
             [
              0.5555555555555556,
              "#d8576b"
             ],
             [
              0.6666666666666666,
              "#ed7953"
             ],
             [
              0.7777777777777778,
              "#fb9f3a"
             ],
             [
              0.8888888888888888,
              "#fdca26"
             ],
             [
              1,
              "#f0f921"
             ]
            ],
            "type": "surface"
           }
          ],
          "table": [
           {
            "cells": {
             "fill": {
              "color": "#EBF0F8"
             },
             "line": {
              "color": "white"
             }
            },
            "header": {
             "fill": {
              "color": "#C8D4E3"
             },
             "line": {
              "color": "white"
             }
            },
            "type": "table"
           }
          ]
         },
         "layout": {
          "annotationdefaults": {
           "arrowcolor": "#2a3f5f",
           "arrowhead": 0,
           "arrowwidth": 1
          },
          "autotypenumbers": "strict",
          "coloraxis": {
           "colorbar": {
            "outlinewidth": 0,
            "ticks": ""
           }
          },
          "colorscale": {
           "diverging": [
            [
             0,
             "#8e0152"
            ],
            [
             0.1,
             "#c51b7d"
            ],
            [
             0.2,
             "#de77ae"
            ],
            [
             0.3,
             "#f1b6da"
            ],
            [
             0.4,
             "#fde0ef"
            ],
            [
             0.5,
             "#f7f7f7"
            ],
            [
             0.6,
             "#e6f5d0"
            ],
            [
             0.7,
             "#b8e186"
            ],
            [
             0.8,
             "#7fbc41"
            ],
            [
             0.9,
             "#4d9221"
            ],
            [
             1,
             "#276419"
            ]
           ],
           "sequential": [
            [
             0,
             "#0d0887"
            ],
            [
             0.1111111111111111,
             "#46039f"
            ],
            [
             0.2222222222222222,
             "#7201a8"
            ],
            [
             0.3333333333333333,
             "#9c179e"
            ],
            [
             0.4444444444444444,
             "#bd3786"
            ],
            [
             0.5555555555555556,
             "#d8576b"
            ],
            [
             0.6666666666666666,
             "#ed7953"
            ],
            [
             0.7777777777777778,
             "#fb9f3a"
            ],
            [
             0.8888888888888888,
             "#fdca26"
            ],
            [
             1,
             "#f0f921"
            ]
           ],
           "sequentialminus": [
            [
             0,
             "#0d0887"
            ],
            [
             0.1111111111111111,
             "#46039f"
            ],
            [
             0.2222222222222222,
             "#7201a8"
            ],
            [
             0.3333333333333333,
             "#9c179e"
            ],
            [
             0.4444444444444444,
             "#bd3786"
            ],
            [
             0.5555555555555556,
             "#d8576b"
            ],
            [
             0.6666666666666666,
             "#ed7953"
            ],
            [
             0.7777777777777778,
             "#fb9f3a"
            ],
            [
             0.8888888888888888,
             "#fdca26"
            ],
            [
             1,
             "#f0f921"
            ]
           ]
          },
          "colorway": [
           "#636efa",
           "#EF553B",
           "#00cc96",
           "#ab63fa",
           "#FFA15A",
           "#19d3f3",
           "#FF6692",
           "#B6E880",
           "#FF97FF",
           "#FECB52"
          ],
          "font": {
           "color": "#2a3f5f"
          },
          "geo": {
           "bgcolor": "white",
           "lakecolor": "white",
           "landcolor": "white",
           "showlakes": true,
           "showland": true,
           "subunitcolor": "#C8D4E3"
          },
          "hoverlabel": {
           "align": "left"
          },
          "hovermode": "closest",
          "mapbox": {
           "style": "light"
          },
          "paper_bgcolor": "white",
          "plot_bgcolor": "white",
          "polar": {
           "angularaxis": {
            "gridcolor": "#EBF0F8",
            "linecolor": "#EBF0F8",
            "ticks": ""
           },
           "bgcolor": "white",
           "radialaxis": {
            "gridcolor": "#EBF0F8",
            "linecolor": "#EBF0F8",
            "ticks": ""
           }
          },
          "scene": {
           "xaxis": {
            "backgroundcolor": "white",
            "gridcolor": "#DFE8F3",
            "gridwidth": 2,
            "linecolor": "#EBF0F8",
            "showbackground": true,
            "ticks": "",
            "zerolinecolor": "#EBF0F8"
           },
           "yaxis": {
            "backgroundcolor": "white",
            "gridcolor": "#DFE8F3",
            "gridwidth": 2,
            "linecolor": "#EBF0F8",
            "showbackground": true,
            "ticks": "",
            "zerolinecolor": "#EBF0F8"
           },
           "zaxis": {
            "backgroundcolor": "white",
            "gridcolor": "#DFE8F3",
            "gridwidth": 2,
            "linecolor": "#EBF0F8",
            "showbackground": true,
            "ticks": "",
            "zerolinecolor": "#EBF0F8"
           }
          },
          "shapedefaults": {
           "line": {
            "color": "#2a3f5f"
           }
          },
          "ternary": {
           "aaxis": {
            "gridcolor": "#DFE8F3",
            "linecolor": "#A2B1C6",
            "ticks": ""
           },
           "baxis": {
            "gridcolor": "#DFE8F3",
            "linecolor": "#A2B1C6",
            "ticks": ""
           },
           "bgcolor": "white",
           "caxis": {
            "gridcolor": "#DFE8F3",
            "linecolor": "#A2B1C6",
            "ticks": ""
           }
          },
          "title": {
           "x": 0.05
          },
          "xaxis": {
           "automargin": true,
           "gridcolor": "#EBF0F8",
           "linecolor": "#EBF0F8",
           "ticks": "",
           "title": {
            "standoff": 15
           },
           "zerolinecolor": "#EBF0F8",
           "zerolinewidth": 2
          },
          "yaxis": {
           "automargin": true,
           "gridcolor": "#EBF0F8",
           "linecolor": "#EBF0F8",
           "ticks": "",
           "title": {
            "standoff": 15
           },
           "zerolinecolor": "#EBF0F8",
           "zerolinewidth": 2
          }
         }
        },
        "title": {
         "text": "Conversion Rates for Control and Test Groups"
        },
        "xaxis": {
         "anchor": "y",
         "autorange": true,
         "categoryarray": [
          "Control (PSA)",
          "Test (AD)"
         ],
         "categoryorder": "array",
         "domain": [
          0,
          1
         ],
         "range": [
          -0.5,
          1.5
         ],
         "title": {
          "text": "Test Group"
         },
         "type": "category"
        },
        "yaxis": {
         "anchor": "x",
         "autorange": true,
         "domain": [
          0,
          1
         ],
         "range": [
          0,
          0.027368421052631577
         ],
         "title": {
          "text": "Conversion Rate"
         },
         "type": "linear"
        }
       }
      },
      "image/png": "[encoded data removed]",
      "text/html": [
       "<div>                            <div id=\"88ca98b3-d792-411c-9e3a-1b5c7909d16e\" class=\"plotly-graph-div\" style=\"height:525px; width:100%;\"></div>            <script type=\"text/javascript\">                require([\"plotly\"], function(Plotly) {                    window.PLOTLYENV=window.PLOTLYENV || {};                                    if (document.getElementById(\"88ca98b3-d792-411c-9e3a-1b5c7909d16e\")) {                    Plotly.newPlot(                        \"88ca98b3-d792-411c-9e3a-1b5c7909d16e\",                        [{\"alignmentgroup\":\"True\",\"hovertemplate\":\"Test Group=%{x}<br>Conversion Rate=%{text}<extra></extra>\",\"legendgroup\":\"Control (PSA)\",\"marker\":{\"color\":\"#636efa\",\"pattern\":{\"shape\":\"\"}},\"name\":\"Control (PSA)\",\"offsetgroup\":\"Control (PSA)\",\"orientation\":\"v\",\"showlegend\":true,\"text\":[0.018],\"textposition\":\"auto\",\"x\":[\"Control (PSA)\"],\"xaxis\":\"x\",\"y\":[0.018],\"yaxis\":\"y\",\"type\":\"bar\"},{\"alignmentgroup\":\"True\",\"hovertemplate\":\"Test Group=%{x}<br>Conversion Rate=%{text}<extra></extra>\",\"legendgroup\":\"Test (AD)\",\"marker\":{\"color\":\"#EF553B\",\"pattern\":{\"shape\":\"\"}},\"name\":\"Test (AD)\",\"offsetgroup\":\"Test (AD)\",\"orientation\":\"v\",\"showlegend\":true,\"text\":[0.026],\"textposition\":\"auto\",\"x\":[\"Test (AD)\"],\"xaxis\":\"x\",\"y\":[0.026],\"yaxis\":\"y\",\"type\":\"bar\"}],                        {\"template\":{\"data\":{\"barpolar\":[{\"marker\":{\"line\":{\"color\":\"white\",\"width\":0.5},\"pattern\":{\"fillmode\":\"overlay\",\"size\":10,\"solidity\":0.2}},\"type\":\"barpolar\"}],\"bar\":[{\"error_x\":{\"color\":\"#2a3f5f\"},\"error_y\":{\"color\":\"#2a3f5f\"},\"marker\":{\"line\":{\"color\":\"white\",\"width\":0.5},\"pattern\":{\"fillmode\":\"overlay\",\"size\":10,\"solidity\":0.2}},\"type\":\"bar\"}],\"carpet\":[{\"aaxis\":{\"endlinecolor\":\"#2a3f5f\",\"gridcolor\":\"#C8D4E3\",\"linecolor\":\"#C8D4E3\",\"minorgridcolor\":\"#C8D4E3\",\"startlinecolor\":\"#2a3f5f\"},\"baxis\":{\"endlinecolor\":\"#2a3f5f\",\"gridcolor\":\"#C8D4E3\",\"linecolor\":\"#C8D4E3\",\"minorgridcolor\":\"#C8D4E3\",\"startlinecolor\":\"#2a3f5f\"},\"type\":\"carpet\"}],\"choropleth\":[{\"colorbar\":{\"outlinewidth\":0,\"ticks\":\"\"},\"type\":\"choropleth\"}],\"contourcarpet\":[{\"colorbar\":{\"outlinewidth\":0,\"ticks\":\"\"},\"type\":\"contourcarpet\"}],\"contour\":[{\"colorbar\":{\"outlinewidth\":0,\"ticks\":\"\"},\"colorscale\":[[0.0,\"#0d0887\"],[0.1111111111111111,\"#46039f\"],[0.2222222222222222,\"#7201a8\"],[0.3333333333333333,\"#9c179e\"],[0.4444444444444444,\"#bd3786\"],[0.5555555555555556,\"#d8576b\"],[0.6666666666666666,\"#ed7953\"],[0.7777777777777778,\"#fb9f3a\"],[0.8888888888888888,\"#fdca26\"],[1.0,\"#f0f921\"]],\"type\":\"contour\"}],\"heatmapgl\":[{\"colorbar\":{\"outlinewidth\":0,\"ticks\":\"\"},\"colorscale\":[[0.0,\"#0d0887\"],[0.1111111111111111,\"#46039f\"],[0.2222222222222222,\"#7201a8\"],[0.3333333333333333,\"#9c179e\"],[0.4444444444444444,\"#bd3786\"],[0.5555555555555556,\"#d8576b\"],[0.6666666666666666,\"#ed7953\"],[0.7777777777777778,\"#fb9f3a\"],[0.8888888888888888,\"#fdca26\"],[1.0,\"#f0f921\"]],\"type\":\"heatmapgl\"}],\"heatmap\":[{\"colorbar\":{\"outlinewidth\":0,\"ticks\":\"\"},\"colorscale\":[[0.0,\"#0d0887\"],[0.1111111111111111,\"#46039f\"],[0.2222222222222222,\"#7201a8\"],[0.3333333333333333,\"#9c179e\"],[0.4444444444444444,\"#bd3786\"],[0.5555555555555556,\"#d8576b\"],[0.6666666666666666,\"#ed7953\"],[0.7777777777777778,\"#fb9f3a\"],[0.8888888888888888,\"#fdca26\"],[1.0,\"#f0f921\"]],\"type\":\"heatmap\"}],\"histogram2dcontour\":[{\"colorbar\":{\"outlinewidth\":0,\"ticks\":\"\"},\"colorscale\":[[0.0,\"#0d0887\"],[0.1111111111111111,\"#46039f\"],[0.2222222222222222,\"#7201a8\"],[0.3333333333333333,\"#9c179e\"],[0.4444444444444444,\"#bd3786\"],[0.5555555555555556,\"#d8576b\"],[0.6666666666666666,\"#ed7953\"],[0.7777777777777778,\"#fb9f3a\"],[0.8888888888888888,\"#fdca26\"],[1.0,\"#f0f921\"]],\"type\":\"histogram2dcontour\"}],\"histogram2d\":[{\"colorbar\":{\"outlinewidth\":0,\"ticks\":\"\"},\"colorscale\":[[0.0,\"#0d0887\"],[0.1111111111111111,\"#46039f\"],[0.2222222222222222,\"#7201a8\"],[0.3333333333333333,\"#9c179e\"],[0.4444444444444444,\"#bd3786\"],[0.5555555555555556,\"#d8576b\"],[0.6666666666666666,\"#ed7953\"],[0.7777777777777778,\"#fb9f3a\"],[0.8888888888888888,\"#fdca26\"],[1.0,\"#f0f921\"]],\"type\":\"histogram2d\"}],\"histogram\":[{\"marker\":{\"pattern\":{\"fillmode\":\"overlay\",\"size\":10,\"solidity\":0.2}},\"type\":\"histogram\"}],\"mesh3d\":[{\"colorbar\":{\"outlinewidth\":0,\"ticks\":\"\"},\"type\":\"mesh3d\"}],\"parcoords\":[{\"line\":{\"colorbar\":{\"outlinewidth\":0,\"ticks\":\"\"}},\"type\":\"parcoords\"}],\"pie\":[{\"automargin\":true,\"type\":\"pie\"}],\"scatter3d\":[{\"line\":{\"colorbar\":{\"outlinewidth\":0,\"ticks\":\"\"}},\"marker\":{\"colorbar\":{\"outlinewidth\":0,\"ticks\":\"\"}},\"type\":\"scatter3d\"}],\"scattercarpet\":[{\"marker\":{\"colorbar\":{\"outlinewidth\":0,\"ticks\":\"\"}},\"type\":\"scattercarpet\"}],\"scattergeo\":[{\"marker\":{\"colorbar\":{\"outlinewidth\":0,\"ticks\":\"\"}},\"type\":\"scattergeo\"}],\"scattergl\":[{\"marker\":{\"colorbar\":{\"outlinewidth\":0,\"ticks\":\"\"}},\"type\":\"scattergl\"}],\"scattermapbox\":[{\"marker\":{\"colorbar\":{\"outlinewidth\":0,\"ticks\":\"\"}},\"type\":\"scattermapbox\"}],\"scatterpolargl\":[{\"marker\":{\"colorbar\":{\"outlinewidth\":0,\"ticks\":\"\"}},\"type\":\"scatterpolargl\"}],\"scatterpolar\":[{\"marker\":{\"colorbar\":{\"outlinewidth\":0,\"ticks\":\"\"}},\"type\":\"scatterpolar\"}],\"scatter\":[{\"fillpattern\":{\"fillmode\":\"overlay\",\"size\":10,\"solidity\":0.2},\"type\":\"scatter\"}],\"scatterternary\":[{\"marker\":{\"colorbar\":{\"outlinewidth\":0,\"ticks\":\"\"}},\"type\":\"scatterternary\"}],\"surface\":[{\"colorbar\":{\"outlinewidth\":0,\"ticks\":\"\"},\"colorscale\":[[0.0,\"#0d0887\"],[0.1111111111111111,\"#46039f\"],[0.2222222222222222,\"#7201a8\"],[0.3333333333333333,\"#9c179e\"],[0.4444444444444444,\"#bd3786\"],[0.5555555555555556,\"#d8576b\"],[0.6666666666666666,\"#ed7953\"],[0.7777777777777778,\"#fb9f3a\"],[0.8888888888888888,\"#fdca26\"],[1.0,\"#f0f921\"]],\"type\":\"surface\"}],\"table\":[{\"cells\":{\"fill\":{\"color\":\"#EBF0F8\"},\"line\":{\"color\":\"white\"}},\"header\":{\"fill\":{\"color\":\"#C8D4E3\"},\"line\":{\"color\":\"white\"}},\"type\":\"table\"}]},\"layout\":{\"annotationdefaults\":{\"arrowcolor\":\"#2a3f5f\",\"arrowhead\":0,\"arrowwidth\":1},\"autotypenumbers\":\"strict\",\"coloraxis\":{\"colorbar\":{\"outlinewidth\":0,\"ticks\":\"\"}},\"colorscale\":{\"diverging\":[[0,\"#8e0152\"],[0.1,\"#c51b7d\"],[0.2,\"#de77ae\"],[0.3,\"#f1b6da\"],[0.4,\"#fde0ef\"],[0.5,\"#f7f7f7\"],[0.6,\"#e6f5d0\"],[0.7,\"#b8e186\"],[0.8,\"#7fbc41\"],[0.9,\"#4d9221\"],[1,\"#276419\"]],\"sequential\":[[0.0,\"#0d0887\"],[0.1111111111111111,\"#46039f\"],[0.2222222222222222,\"#7201a8\"],[0.3333333333333333,\"#9c179e\"],[0.4444444444444444,\"#bd3786\"],[0.5555555555555556,\"#d8576b\"],[0.6666666666666666,\"#ed7953\"],[0.7777777777777778,\"#fb9f3a\"],[0.8888888888888888,\"#fdca26\"],[1.0,\"#f0f921\"]],\"sequentialminus\":[[0.0,\"#0d0887\"],[0.1111111111111111,\"#46039f\"],[0.2222222222222222,\"#7201a8\"],[0.3333333333333333,\"#9c179e\"],[0.4444444444444444,\"#bd3786\"],[0.5555555555555556,\"#d8576b\"],[0.6666666666666666,\"#ed7953\"],[0.7777777777777778,\"#fb9f3a\"],[0.8888888888888888,\"#fdca26\"],[1.0,\"#f0f921\"]]},\"colorway\":[\"#636efa\",\"#EF553B\",\"#00cc96\",\"#ab63fa\",\"#FFA15A\",\"#19d3f3\",\"#FF6692\",\"#B6E880\",\"#FF97FF\",\"#FECB52\"],\"font\":{\"color\":\"#2a3f5f\"},\"geo\":{\"bgcolor\":\"white\",\"lakecolor\":\"white\",\"landcolor\":\"white\",\"showlakes\":true,\"showland\":true,\"subunitcolor\":\"#C8D4E3\"},\"hoverlabel\":{\"align\":\"left\"},\"hovermode\":\"closest\",\"mapbox\":{\"style\":\"light\"},\"paper_bgcolor\":\"white\",\"plot_bgcolor\":\"white\",\"polar\":{\"angularaxis\":{\"gridcolor\":\"#EBF0F8\",\"linecolor\":\"#EBF0F8\",\"ticks\":\"\"},\"bgcolor\":\"white\",\"radialaxis\":{\"gridcolor\":\"#EBF0F8\",\"linecolor\":\"#EBF0F8\",\"ticks\":\"\"}},\"scene\":{\"xaxis\":{\"backgroundcolor\":\"white\",\"gridcolor\":\"#DFE8F3\",\"gridwidth\":2,\"linecolor\":\"#EBF0F8\",\"showbackground\":true,\"ticks\":\"\",\"zerolinecolor\":\"#EBF0F8\"},\"yaxis\":{\"backgroundcolor\":\"white\",\"gridcolor\":\"#DFE8F3\",\"gridwidth\":2,\"linecolor\":\"#EBF0F8\",\"showbackground\":true,\"ticks\":\"\",\"zerolinecolor\":\"#EBF0F8\"},\"zaxis\":{\"backgroundcolor\":\"white\",\"gridcolor\":\"#DFE8F3\",\"gridwidth\":2,\"linecolor\":\"#EBF0F8\",\"showbackground\":true,\"ticks\":\"\",\"zerolinecolor\":\"#EBF0F8\"}},\"shapedefaults\":{\"line\":{\"color\":\"#2a3f5f\"}},\"ternary\":{\"aaxis\":{\"gridcolor\":\"#DFE8F3\",\"linecolor\":\"#A2B1C6\",\"ticks\":\"\"},\"baxis\":{\"gridcolor\":\"#DFE8F3\",\"linecolor\":\"#A2B1C6\",\"ticks\":\"\"},\"bgcolor\":\"white\",\"caxis\":{\"gridcolor\":\"#DFE8F3\",\"linecolor\":\"#A2B1C6\",\"ticks\":\"\"}},\"title\":{\"x\":0.05},\"xaxis\":{\"automargin\":true,\"gridcolor\":\"#EBF0F8\",\"linecolor\":\"#EBF0F8\",\"ticks\":\"\",\"title\":{\"standoff\":15},\"zerolinecolor\":\"#EBF0F8\",\"zerolinewidth\":2},\"yaxis\":{\"automargin\":true,\"gridcolor\":\"#EBF0F8\",\"linecolor\":\"#EBF0F8\",\"ticks\":\"\",\"title\":{\"standoff\":15},\"zerolinecolor\":\"#EBF0F8\",\"zerolinewidth\":2}}},\"xaxis\":{\"anchor\":\"y\",\"domain\":[0.0,1.0],\"title\":{\"text\":\"Test Group\"},\"categoryorder\":\"array\",\"categoryarray\":[\"Control (PSA)\",\"Test (AD)\"]},\"yaxis\":{\"anchor\":\"x\",\"domain\":[0.0,1.0],\"title\":{\"text\":\"Conversion Rate\"}},\"legend\":{\"title\":{\"text\":\"Test Group\"},\"tracegroupgap\":0},\"title\":{\"text\":\"Conversion Rates for Control and Test Groups\"},\"barmode\":\"relative\"},                        {\"responsive\": true}                    ).then(function(){\n",
       "                            \n",
       "var gd = document.getElementById('88ca98b3-d792-411c-9e3a-1b5c7909d16e');\n",
       "var x = new MutationObserver(function (mutations, observer) {{\n",
       "        var display = window.getComputedStyle(gd).display;\n",
       "        if (!display || display === 'none') {{\n",
       "            console.log([gd, 'removed!']);\n",
       "            Plotly.purge(gd);\n",
       "            observer.disconnect();\n",
       "        }}\n",
       "}});\n",
       "\n",
       "// Listen for the removal of the full notebook cells\n",
       "var notebookContainer = gd.closest('#notebook-container');\n",
       "if (notebookContainer) {{\n",
       "    x.observe(notebookContainer, {childList: true});\n",
       "}}\n",
       "\n",
       "// Listen for the clearing of the current output cell\n",
       "var outputEl = gd.closest('.output');\n",
       "if (outputEl) {{\n",
       "    x.observe(outputEl, {childList: true});\n",
       "}}\n",
       "\n",
       "                        })                };                });            </script>        </div>"
      ]
     },
     "metadata": {},
     "output_type": "display_data"
    }
   ],
   "source": [
    "import plotly.express as px\n",
    "\n",
    "# Calculate conversion rates for both groups and round to 3 significant figures\n",
    "conversion_rates = pd.DataFrame({\n",
    "    'Test Group': ['Control (PSA)', 'Test (AD)'],\n",
    "    'Conversion Rate': [round(control_group['converted'].mean(), 3), \n",
    "                        round(test_group['converted'].mean(), 3)]\n",
    "})\n",
    "\n",
    "# Create the bar plot\n",
    "fig = px.bar(conversion_rates, x='Test Group', y='Conversion Rate',\n",
    "             title='Conversion Rates for Control and Test Groups', \n",
    "             color='Test Group', text='Conversion Rate',\n",
    "             labels={'Test Group': 'Test Group', 'Conversion Rate': 'Conversion Rate'},\n",
    "             template='plotly_white')  # Optional: choose a clean template\n",
    "\n",
    "# Show the plot\n",
    "fig.show()\n"
   ]
  },
  {
   "cell_type": "code",
   "execution_count": 47,
   "id": "09e690b2-691b-4716-94c6-c927892bf693",
   "metadata": {
    "tags": []
   },
   "outputs": [
    {
     "data": {
      "image/png": "[encoded data removed]",
      "text/plain": [
       "<Figure size 1000x600 with 1 Axes>"
      ]
     },
     "metadata": {},
     "output_type": "display_data"
    }
   ],
   "source": [
    "\n",
    "# Calculate conversion rate by hour\n",
    "hour_conversion_rate = df_subset.groupby('time_slot')['converted'].mean().reset_index()\n",
    "\n",
    "# Rename the column for clarity, if needed\n",
    "hour_conversion_rate.columns = ['time_slot', 'Conversion Rate']\n",
    "\n",
    "# Create the bar plot\n",
    "plt.figure(figsize=(10, 6))\n",
    "sns.barplot(data=hour_conversion_rate, x='time_slot', y='Conversion Rate', palette='viridis')\n",
    "\n",
    "# Customize the plot\n",
    "plt.title('Conversion Rate by Time_slot ', fontsize=16, fontweight='bold')\n",
    "\n",
    "plt.ylabel('Conversion Rate', fontsize=14)\n",
    "plt.xticks(fontsize=12)\n",
    "plt.yticks(fontsize=12)\n",
    "\n",
    "# Show the plot\n",
    "plt.show()\n"
   ]
  },
  {
   "cell_type": "code",
   "execution_count": 49,
   "id": "089f5768-7810-476f-b2b3-14e7e69b4e22",
   "metadata": {
    "tags": []
   },
   "outputs": [
    {
     "data": {
      "image/png": "[encoded data removed]",
      "text/plain": [
       "<Figure size 1000x600 with 1 Axes>"
      ]
     },
     "metadata": {},
     "output_type": "display_data"
    }
   ],
   "source": [
    "\n",
    "# Calculate conversion rate by hour\n",
    "conversion_rate = df_subset.groupby('total_ads_bin')['converted'].mean().reset_index()\n",
    "\n",
    "# Rename the column for clarity, if needed\n",
    "conversion_rate.columns = ['total_ads_bin', 'Conversion Rate']\n",
    "\n",
    "# Create the bar plot\n",
    "plt.figure(figsize=(10, 6))\n",
    "sns.barplot(data=conversion_rate, x='total_ads_bin', y='Conversion Rate', palette='viridis')\n",
    "\n",
    "# Customize the plot\n",
    "plt.title('Conversion Rate by Hour with Most Ads Seen', fontsize=16, fontweight='bold')\n",
    "plt.xlabel('Hour of the Day', fontsize=14)\n",
    "plt.ylabel('Conversion Rate', fontsize=14)\n",
    "plt.xticks(fontsize=12)\n",
    "plt.yticks(fontsize=12)\n",
    "\n",
    "# Show the plot\n",
    "plt.show()\n"
   ]
  },
  {
   "cell_type": "code",
   "execution_count": 50,
   "id": "4f6275b3-2f5c-4aff-a68e-a95f779e9dfb",
   "metadata": {
    "tags": []
   },
   "outputs": [
    {
     "data": {
      "text/html": [
       "<div>\n",
       "<style scoped>\n",
       "    .dataframe tbody tr th:only-of-type {\n",
       "        vertical-align: middle;\n",
       "    }\n",
       "\n",
       "    .dataframe tbody tr th {\n",
       "        vertical-align: top;\n",
       "    }\n",
       "\n",
       "    .dataframe thead th {\n",
       "        text-align: right;\n",
       "    }\n",
       "</style>\n",
       "<table border=\"1\" class=\"dataframe\">\n",
       "  <thead>\n",
       "    <tr style=\"text-align: right;\">\n",
       "      <th></th>\n",
       "      <th>total_ads_bin</th>\n",
       "      <th>Conversion Rate</th>\n",
       "    </tr>\n",
       "  </thead>\n",
       "  <tbody>\n",
       "    <tr>\n",
       "      <th>0</th>\n",
       "      <td>0-1</td>\n",
       "      <td>0.001572</td>\n",
       "    </tr>\n",
       "    <tr>\n",
       "      <th>1</th>\n",
       "      <td>2-5</td>\n",
       "      <td>0.002970</td>\n",
       "    </tr>\n",
       "    <tr>\n",
       "      <th>2</th>\n",
       "      <td>6-10</td>\n",
       "      <td>0.004931</td>\n",
       "    </tr>\n",
       "    <tr>\n",
       "      <th>3</th>\n",
       "      <td>11-20</td>\n",
       "      <td>0.008393</td>\n",
       "    </tr>\n",
       "    <tr>\n",
       "      <th>4</th>\n",
       "      <td>21-30</td>\n",
       "      <td>0.017693</td>\n",
       "    </tr>\n",
       "    <tr>\n",
       "      <th>5</th>\n",
       "      <td>31-40</td>\n",
       "      <td>0.032768</td>\n",
       "    </tr>\n",
       "    <tr>\n",
       "      <th>6</th>\n",
       "      <td>41-50</td>\n",
       "      <td>0.055702</td>\n",
       "    </tr>\n",
       "    <tr>\n",
       "      <th>7</th>\n",
       "      <td>51+</td>\n",
       "      <td>0.132352</td>\n",
       "    </tr>\n",
       "  </tbody>\n",
       "</table>\n",
       "</div>"
      ],
      "text/plain": [
       "  total_ads_bin  Conversion Rate\n",
       "0           0-1         0.001572\n",
       "1           2-5         0.002970\n",
       "2          6-10         0.004931\n",
       "3         11-20         0.008393\n",
       "4         21-30         0.017693\n",
       "5         31-40         0.032768\n",
       "6         41-50         0.055702\n",
       "7           51+         0.132352"
      ]
     },
     "execution_count": 50,
     "metadata": {},
     "output_type": "execute_result"
    }
   ],
   "source": [
    "conversion_rate"
   ]
  },
  {
   "cell_type": "code",
   "execution_count": 53,
   "id": "edd13241-c965-455f-9a06-e2b02590b055",
   "metadata": {
    "tags": []
   },
   "outputs": [
    {
     "data": {
      "image/png": "[encoded data removed]",
      "text/plain": [
       "<Figure size 1200x600 with 1 Axes>"
      ]
     },
     "metadata": {},
     "output_type": "display_data"
    }
   ],
   "source": [
    "\n",
    "# Count conversions per bin\n",
    "conversion_counts = df_subset.groupby('total_ads_bin')['converted'].agg(['count', 'sum']).reset_index()\n",
    "conversion_counts.columns = ['Total Ads Bin', 'Total Count', 'Total Converted']\n",
    "\n",
    "# Plotting the data\n",
    "plt.figure(figsize=(12, 6))\n",
    "sns.barplot(data=conversion_counts, x='Total Ads Bin', y='Total Converted', color='green', label='Converted')\n",
    "sns.barplot(data=conversion_counts, x='Total Ads Bin', y='Total Count', alpha=0.5, color='orange', label='Total Count')\n",
    "\n",
    "plt.title('Binned Exposure Counts and Number of Conversions')\n",
    "plt.xlabel('Total Ads Bin')\n",
    "plt.ylabel('Count')\n",
    "plt.legend()\n",
    "plt.grid(axis='y')\n",
    "plt.show()"
   ]
  },
  {
   "cell_type": "markdown",
   "id": "75aec8f6-3bb8-49a2-b838-f3a402fe8ecd",
   "metadata": {
    "tags": []
   },
   "source": [
    "# Conclusion"
   ]
  },
  {
   "cell_type": "markdown",
   "id": "3a898e2c-3542-4b7f-9a16-52146d925e52",
   "metadata": {},
   "source": [
    "`Statistical Significane`\n",
    "\n",
    "    Non-parametric tests ( the Kruskal-Wallis test) show statistically significant differences (with p-values below your chosen significance level, e.g., 0.05), you can confidently conclude that the differences in conversion rates between the two groups are not due to random chance.\n",
    "    \n",
    "`Engagement Patterns`\n",
    "    \n",
    "    Analyze the conversion data in the context of user exposure to ads. If users exposed to ads have higher conversion rates, it could imply that increased visibility or engagement with ads leads to better outcomes.\n",
    "    \n",
    "`Effectiveness`\n",
    "    \n",
    "    If the conversion rates for the Ads group are significantly higher than those for the PSA group, it suggests that the ad campaign is more effective at driving conversions. This could indicate that the advertising strategy resonates better with your target audience.\n"
   ]
  },
  {
   "cell_type": "code",
   "execution_count": null,
   "id": "c4d81b81-a35a-4ec8-a657-c33c95f4fef7",
   "metadata": {},
   "outputs": [],
   "source": []
  }
 ],
 "metadata": {
  "kernelspec": {
   "display_name": "Python 3 (ipykernel)",
   "language": "python",
   "name": "python3"
  },
  "language_info": {
   "codemirror_mode": {
    "name": "ipython",
    "version": 3
   },
   "file_extension": ".py",
   "mimetype": "text/x-python",
   "name": "python",
   "nbconvert_exporter": "python",
   "pygments_lexer": "ipython3",
   "version": "3.11.5"
  }
 },
 "nbformat": 4,
 "nbformat_minor": 5
}
